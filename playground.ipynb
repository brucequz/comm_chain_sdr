{
 "cells": [
  {
   "cell_type": "code",
   "execution_count": 1,
   "id": "7784469b",
   "metadata": {},
   "outputs": [],
   "source": [
    "import numpy as np"
   ]
  },
  {
   "cell_type": "code",
   "execution_count": 6,
   "id": "7ae035ed",
   "metadata": {},
   "outputs": [
    {
     "name": "stdout",
     "output_type": "stream",
     "text": [
      "54.46232220802562\n",
      "99.46232220802563\n"
     ]
    }
   ],
   "source": [
    "\n",
    "real_part = np.random.randint(size=5, high=10, low=1)\n",
    "imag_part = np.random.randint(size=5, high=10, low=1)\n",
    "a = real_part + 1j * imag_part\n",
    "a_rotated = a * (1+1j)\n",
    "print(np.rad2deg(np.angle(a[0])))\n",
    "print(np.rad2deg(np.angle(a_rotated[0])))\n"
   ]
  },
  {
   "cell_type": "code",
   "execution_count": null,
   "id": "964f4ab3",
   "metadata": {},
   "outputs": [],
   "source": []
  }
 ],
 "metadata": {
  "kernelspec": {
   "display_name": "sdr",
   "language": "python",
   "name": "python3"
  },
  "language_info": {
   "codemirror_mode": {
    "name": "ipython",
    "version": 3
   },
   "file_extension": ".py",
   "mimetype": "text/x-python",
   "name": "python",
   "nbconvert_exporter": "python",
   "pygments_lexer": "ipython3",
   "version": "3.10.17"
  }
 },
 "nbformat": 4,
 "nbformat_minor": 5
}
